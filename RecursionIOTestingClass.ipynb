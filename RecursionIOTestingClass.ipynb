{
 "cells": [
  {
   "cell_type": "code",
   "execution_count": null,
   "id": "3c001990",
   "metadata": {},
   "outputs": [],
   "source": [
    "# Operating on lists, that's a python builtin\n",
    "\n",
    "def my_sum_list(l):\n",
    "    \"\"\"\n",
    "    Take in a list of numbers, and return their sum\n",
    "    \"\"\"\n",
    "    s = 0\n",
    "    for n in l:\n",
    "        s += n\n",
    "    return s"
   ]
  },
  {
   "cell_type": "code",
   "execution_count": null,
   "id": "d47b9281",
   "metadata": {},
   "outputs": [],
   "source": [
    "t0 = [1]\n",
    "t1 = [-1]\n",
    "t2 = []\n",
    "t3 = [1, 2, 3]"
   ]
  },
  {
   "cell_type": "code",
   "execution_count": null,
   "id": "e58c3361",
   "metadata": {},
   "outputs": [],
   "source": [
    "assert True == True"
   ]
  },
  {
   "cell_type": "code",
   "execution_count": null,
   "id": "fdbb639c",
   "metadata": {},
   "outputs": [],
   "source": [
    "assert True == False"
   ]
  },
  {
   "cell_type": "code",
   "execution_count": null,
   "id": "70897d0f",
   "metadata": {},
   "outputs": [],
   "source": [
    "assert my_sum_list(t0) == 1\n",
    "assert my_sum_list(t1) == -2\n",
    "assert my_sum_list(t2) == 1\n",
    "assert my_sum_list(t3) == 6"
   ]
  },
  {
   "cell_type": "code",
   "execution_count": null,
   "id": "a67be7d0",
   "metadata": {},
   "outputs": [],
   "source": [
    "import unittest"
   ]
  },
  {
   "cell_type": "code",
   "execution_count": null,
   "id": "431296c3",
   "metadata": {},
   "outputs": [],
   "source": [
    "class ListTester(unittest.TestCase):\n",
    "    def test_hereprint(self):\n",
    "        print(\"Hello\")\n",
    "        \n",
    "    def test_long(self):\n",
    "        self.test_hereprint()\n",
    "        self.assertEqual(my_sum_list([1, 2, 3, 4, 5]),\n",
    "                         15)\n",
    "    def test_empty(self):\n",
    "        self.assertEqual(my_sum_list([]),\n",
    "                 0)\n",
    "    def test_fail(self):\n",
    "        self.assertEqual(my_sum_list([1]),\n",
    "                 1)       "
   ]
  },
  {
   "cell_type": "code",
   "execution_count": null,
   "id": "2bf962d4",
   "metadata": {
    "scrolled": true
   },
   "outputs": [],
   "source": [
    "unittest.main(argv=[''], verbosity=2, exit=False)"
   ]
  },
  {
   "cell_type": "code",
   "execution_count": null,
   "id": "3136899f",
   "metadata": {},
   "outputs": [],
   "source": [
    "def recur_sum(l):\n",
    "    \"\"\"\n",
    "    Add elements of a list recursively\n",
    "    \"\"\"\n",
    "    if not l:\n",
    "        return 0\n",
    "    else:\n",
    "        return l[0] + recur_sum(l[1:])"
   ]
  },
  {
   "cell_type": "code",
   "execution_count": null,
   "id": "c75c83d2",
   "metadata": {},
   "outputs": [],
   "source": [
    "class RecurTester(unittest.TestCase):      \n",
    "    def test_long(self):\n",
    "        self.assertEqual(recur_sum([1, 2, 3, 4, 5]),\n",
    "                         15)\n",
    "    def test_empty(self):\n",
    "        self.assertEqual(recur_sum([]),\n",
    "                 0)\n",
    "    def test_fail(self):\n",
    "        self.assertEqual(recur_sum([1]),\n",
    "                 1)"
   ]
  },
  {
   "cell_type": "code",
   "execution_count": null,
   "id": "6bdba6c9",
   "metadata": {},
   "outputs": [],
   "source": [
    "unittest.main(argv=[''], verbosity=2, exit=False)"
   ]
  },
  {
   "cell_type": "markdown",
   "id": "40814698",
   "metadata": {},
   "source": [
    "%pip install binarytree"
   ]
  },
  {
   "cell_type": "code",
   "execution_count": null,
   "id": "c41078ff",
   "metadata": {},
   "outputs": [],
   "source": [
    "import binarytree"
   ]
  },
  {
   "cell_type": "code",
   "execution_count": null,
   "id": "1e667462",
   "metadata": {},
   "outputs": [],
   "source": [
    "l = [1, 2, 3, 4, 5]\n",
    "t = binarytree.build(l)\n",
    "print(t)"
   ]
  },
  {
   "cell_type": "code",
   "execution_count": null,
   "id": "6ae27d5c",
   "metadata": {},
   "outputs": [],
   "source": [
    "# data is binary tree of numbers"
   ]
  },
  {
   "cell_type": "code",
   "execution_count": null,
   "id": "ff8b9f0b",
   "metadata": {},
   "outputs": [],
   "source": [
    "t1 = binarytree.build([1])"
   ]
  },
  {
   "cell_type": "code",
   "execution_count": null,
   "id": "dedb6a2c",
   "metadata": {},
   "outputs": [],
   "source": [
    "print(t1)"
   ]
  },
  {
   "cell_type": "code",
   "execution_count": null,
   "id": "c979b3c6",
   "metadata": {},
   "outputs": [],
   "source": [
    "if t1:\n",
    "    print(\"yes\")\n",
    "else:\n",
    "    print(\"no\")"
   ]
  },
  {
   "cell_type": "code",
   "execution_count": null,
   "id": "83524204",
   "metadata": {},
   "outputs": [],
   "source": [
    "def sum_binary_tree(t):\n",
    "    \"\"\"\n",
    "    Walk the tree, find the sum of all elements\n",
    "    \"\"\"\n",
    "    if not t:\n",
    "        return 0\n",
    "    return t.val + sum_binary_tree(t.left) + sum_binary_tree(t.right)"
   ]
  },
  {
   "cell_type": "code",
   "execution_count": null,
   "id": "87be2fc1",
   "metadata": {},
   "outputs": [],
   "source": [
    "t1 = binarytree.build([])\n",
    "assert sum_binary_tree(t1) == 0\n",
    "\n",
    "t2 = binarytree.build([1,2,3,4,5])\n",
    "assert sum_binary_tree(t2) == 15"
   ]
  },
  {
   "cell_type": "code",
   "execution_count": null,
   "id": "330683e3",
   "metadata": {},
   "outputs": [],
   "source": [
    "sum_binary_tree(t2)"
   ]
  },
  {
   "cell_type": "code",
   "execution_count": null,
   "id": "09c808ad",
   "metadata": {},
   "outputs": [],
   "source": [
    "from os.path import join as osjoin\n",
    "import os"
   ]
  },
  {
   "cell_type": "code",
   "execution_count": null,
   "id": "57616d60",
   "metadata": {},
   "outputs": [],
   "source": [
    "os.getcwd()"
   ]
  },
  {
   "cell_type": "code",
   "execution_count": null,
   "id": "3217d7ba",
   "metadata": {},
   "outputs": [],
   "source": [
    "os.listdir()"
   ]
  },
  {
   "cell_type": "code",
   "execution_count": null,
   "id": "df080cae",
   "metadata": {},
   "outputs": [],
   "source": [
    "'binary_tree_files\\inputs'\n",
    "'binary_tree_files/inputs'"
   ]
  },
  {
   "cell_type": "code",
   "execution_count": null,
   "id": "94c9d7c0",
   "metadata": {},
   "outputs": [],
   "source": [
    "ins = osjoin('binary_tree_files', 'inputs')\n",
    "outs = osjoin('binary_tree_files', 'outputs')\n",
    "for dirpath, dirnames, filenames in os.walk(ins):\n",
    "    for fname in filenames:\n",
    "        print(f'testing {fname}')\n",
    "        with open(osjoin(ins, fname)) as f:\n",
    "            inp = f.read().strip()\n",
    "        with open(osjoin(outs, fname)) as f:\n",
    "            expected = int(f.read().strip())\n",
    "        t = binarytree.build([int(i) for i in inp.split()])\n",
    "        out = sum_binary_tree(t)\n",
    "        assert out == expected"
   ]
  },
  {
   "cell_type": "code",
   "execution_count": null,
   "id": "30fb89c7",
   "metadata": {},
   "outputs": [],
   "source": [
    "class BinTreeSumTester(unittest.TestCase):\n",
    "    ins = osjoin('binary_tree_files', 'inputs')\n",
    "    outs = osjoin('binary_tree_files', 'outputs')\n",
    "    def test_all_the_things(self):\n",
    "        for fname in os.listdir(ins):\n",
    "            with open(osjoin(ins, fname)) as f:\n",
    "                inp = f.read().strip()\n",
    "            with open(osjoin(outs, fname)) as f:\n",
    "                expected = int(f.read().strip())\n",
    "                with self.subTest(msg=f\"Testing {fname}\", inp=inp, expected=expected):\n",
    "                    t = binarytree.build([int(i) for i in inp.split()])\n",
    "                    out = sum_binary_tree(t)\n",
    "                    self.assertEqual(out, expected)"
   ]
  },
  {
   "cell_type": "code",
   "execution_count": null,
   "id": "794ed158",
   "metadata": {},
   "outputs": [],
   "source": [
    "unittest.main(argv=[''], verbosity=2, exit=False)"
   ]
  },
  {
   "cell_type": "code",
   "execution_count": null,
   "id": "f43bad2e",
   "metadata": {},
   "outputs": [],
   "source": []
  }
 ],
 "metadata": {
  "kernelspec": {
   "display_name": "Python 3 (ipykernel)",
   "language": "python",
   "name": "python3"
  },
  "language_info": {
   "codemirror_mode": {
    "name": "ipython",
    "version": 3
   },
   "file_extension": ".py",
   "mimetype": "text/x-python",
   "name": "python",
   "nbconvert_exporter": "python",
   "pygments_lexer": "ipython3",
   "version": "3.10.12"
  }
 },
 "nbformat": 4,
 "nbformat_minor": 5
}
